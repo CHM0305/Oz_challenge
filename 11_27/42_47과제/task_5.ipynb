{
 "cells": [
  {
   "cell_type": "markdown",
   "metadata": {},
   "source": [
    "[문제]\n",
    "\n",
    "'Account' 클래스를 작성하세요. \n",
    "\n",
    "이 클래스는 소유자(owner)와 잔액(balance)을 속성으로 가지며, 잔액은 프라이빗 변수로 선언합니다. \n",
    "\n",
    "'deposit'와 'withdraw' 두 개의 메소드를 통해 잔액을 조작할 수 있도록 하세요. \n",
    "\n",
    "이 때, 잔액은 음수가 될 수 없도록 체크해야 합니다. 'Account' 객체를 생성하고,<br>\n",
    "입금 및 출금 작업을 시뮬레이션한 후, 최종 잔액을 출력하세요."
   ]
  },
  {
   "cell_type": "markdown",
   "metadata": {},
   "source": [
    "#객체를 생성하고 그 객체로 인해 오너의 잔액이 바뀌는 것@\n",
    "\n",
    "class Accoount:\n",
    "    def __init__(self,owner,balance):\n",
    "        self.owner=owner\n",
    "        self.__balance=balance\n",
    "        \n",
    "    #입금 메소드\n",
    "    def deposit(self,money):\n",
    "        if money>0:\n",
    "            self.__balance+=money\n",
    "            print(\"입금이 완료되었습니다.\")\n",
    "        else:\n",
    "            print(\"오류가 발생했습니다. 다시 입력해주세요.\")\n",
    "\n",
    "    #출금 메소드\n",
    "    def withdraw(self,money):\n",
    "        if 0<money<=self.__balance:\n",
    "            self.__balance-=money\n",
    "            print(\"출금이 완료되었습니다.\")\n",
    "        else:\n",
    "            print(\"오류가 발생했습니다. 다시 입력해주세요.\")\n",
    "    def now_balance(self):\n",
    "        return self.__balance\n",
    "        \n",
    "\n",
    "#입력값이 다 있어야 함. \n",
    "accoount=Accoount(\"동구녕\",0)\n",
    "\n",
    "accoount.deposit(10000)\n",
    "accoount.withdraw(500)\n",
    "print(accoount.now_balance())"
   ]
  },
  {
   "cell_type": "code",
   "execution_count": 2,
   "metadata": {},
   "outputs": [
    {
     "name": "stdout",
     "output_type": "stream",
     "text": [
      "입금이 완료되었습니다.\n",
      "출금이 완료되었습니다.\n",
      "9500\n"
     ]
    }
   ],
   "source": [
    "\n",
    "#객체를 생성하고 그 객체로 인해 오너의 잔액이 바뀌는 것@\n",
    "\n",
    "class Accoount:\n",
    "    def __init__(self,owner,balance):\n",
    "        self.owner=owner\n",
    "        self.__balance=balance\n",
    "        \n",
    "    #입금 메소드\n",
    "    def deposit(self,money):\n",
    "        if money>0:\n",
    "            self.__balance+=money\n",
    "            print(\"입금이 완료되었습니다.\")\n",
    "        else:\n",
    "            print(\"오류가 발생했습니다. 다시 입력해주세요.\")\n",
    "\n",
    "    #출금 메소드\n",
    "    def withdraw(self,money):\n",
    "        if 0<money<=self.__balance:\n",
    "            self.__balance-=money\n",
    "            print(\"출금이 완료되었습니다.\")\n",
    "        else:\n",
    "            print(\"오류가 발생했습니다. 다시 입력해주세요.\")\n",
    "    def now_balance(self):\n",
    "        return self.__balance\n",
    "        \n",
    "\n",
    "#입력값이 다 있어야 함. \n",
    "accoount=Accoount(\"동구녕\",0)\n",
    "\n",
    "accoount.deposit(10000)\n",
    "accoount.withdraw(500)\n",
    "print(accoount.now_balance())\n",
    "\n",
    "\n",
    "\n",
    "# class Account:\n",
    "\n",
    "#     def __init__(self,owner,balance):\n",
    "#         self.owner=owner\n",
    "#         self.__balance=balance\n",
    "        \n",
    "#     def deposit(self): #입금\n",
    "#         if self.__balance<0:\n",
    "#         self.__balance +=self.__balance\n",
    "#         else:\n",
    "#             print(\"정상적인 값을 입력해주십시요.\")\n",
    "    \n",
    "\n",
    "#     def withdraw(self): #출금\n",
    "\n",
    "\n",
    "# person=Account(\"홍길동\")\n",
    "#person.deposit()"
   ]
  }
 ],
 "metadata": {
  "kernelspec": {
   "display_name": "Python 3",
   "language": "python",
   "name": "python3"
  },
  "language_info": {
   "codemirror_mode": {
    "name": "ipython",
    "version": 3
   },
   "file_extension": ".py",
   "mimetype": "text/x-python",
   "name": "python",
   "nbconvert_exporter": "python",
   "pygments_lexer": "ipython3",
   "version": "3.9.6"
  }
 },
 "nbformat": 4,
 "nbformat_minor": 2
}
