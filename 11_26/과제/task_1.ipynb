{
 "cells": [
  {
   "cell_type": "markdown",
   "metadata": {},
   "source": [
    "사용자로부터 두 개의 숫자를 입력받아 나눗셈을 수행하는 프로그램을 작성하세요. \n",
    "\n",
    "[예외처리]\n",
    "- 입력 값이 숫자가 아닐 때 발생할 수 있는 ValueError\n",
    "- 나누는 수가 0일 때 발생할 수 있는 ZeroDivisionError\n",
    "- 위 2가지 예외처리 후 사용자에게 이해하기 쉬운 메시지 작성 후 출력되도록 코드를 작성"
   ]
  },
  {
   "cell_type": "markdown",
   "metadata": {},
   "source": [
    "\n",
    "try:\n",
    "    x= int(input(\"첫번쪠 값 입력!!!!!!!\"))\n",
    "    y= int(input(\"두번쪠 값 입력!!!!!!!\"))\n",
    "    print(x/y)\n",
    "except ValueError: #예외 발생시 실행되는 코드, except뒤에 바로 에러 작성\n",
    "    print(\"숫자만 입력하쇼\")\n",
    "except ZeroDivisionError:\n",
    "    print(\"0은 안되구먼\")"
   ]
  },
  {
   "cell_type": "code",
   "execution_count": null,
   "metadata": {},
   "outputs": [
    {
     "name": "stdout",
     "output_type": "stream",
     "text": [
      "숫자만 입력하쇼\n"
     ]
    }
   ],
   "source": [
    "\n",
    "try:\n",
    "    x= int(input(\"첫번쪠 값 입력!!!!!!!\"))\n",
    "    y= int(input(\"두번쪠 값 입력!!!!!!!\"))\n",
    "    print(x/y)\n",
    "except ValueError: #예외 발생시 실행되는 코드, except뒤에 바로 에러 작성\n",
    "    print(\"숫자만 입력하쇼\")\n",
    "except ZeroDivisionError:\n",
    "    print(\"0은 안되구먼\")\n",
    "\n",
    "#x,y=int(input(\"첫번째, 두번째 숫자를 입력하세요용n~>\").split(\",\"))\n",
    "#타입에러 리스트가 아니니 두개 값을 함께 받아 저장할 수 읍다.\n",
    "\n",
    "#간단하게~~~가 잘 안됨...\n",
    "# try:\n",
    "#     divide=input(\"나누고 싶은 숫자 두가지를 입력해주세요\".split(\",\"))\n",
    "#     if divide.isdigit()==True:\n",
    "#         for x,y in divide:\n",
    "#             total=x/y\n",
    "#             print(f\"{x}와{y}의 나누기 결과는{total}입니다.\")\n",
    "# except:\n",
    "#     if divide.isdigit()!=True:\n",
    "#         print(\"정수만을 입력해주세요\",type(Exception))\n",
    "#     elif divide==0:\n",
    "#         print(\"0을 포함해 나눌 수 없습니다.\".type(Exception))\n",
    "\n"
   ]
  }
 ],
 "metadata": {
  "kernelspec": {
   "display_name": "Python 3",
   "language": "python",
   "name": "python3"
  },
  "language_info": {
   "codemirror_mode": {
    "name": "ipython",
    "version": 3
   },
   "file_extension": ".py",
   "mimetype": "text/x-python",
   "name": "python",
   "nbconvert_exporter": "python",
   "pygments_lexer": "ipython3",
   "version": "3.9.6"
  }
 },
 "nbformat": 4,
 "nbformat_minor": 2
}
