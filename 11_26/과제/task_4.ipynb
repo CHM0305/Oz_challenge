{
 "cells": [
  {
   "cell_type": "markdown",
   "metadata": {},
   "source": [
    "사용자 정의 예외 NegativeNumberError를 생성하고, 사용자로부터 숫자를 입력받아 음수일 경우 NegativeNumberError를 발생시키는 프로그램을 작성하세요. \n",
    "\n",
    "- 예외 처리 구문을 사용하여 음수 입력 시 \"양수를 입력해주세요.\"라는 메시지를 출력"
   ]
  },
  {
   "cell_type": "markdown",
   "metadata": {},
   "source": [
    "class NegativeNumberError(Exception):\n",
    "    def __init__(self, massage):\n",
    "        self.name=\"NegativeNumberError\"\n",
    "        self.massage=massage\n",
    "        super().__init__(massage)\n",
    "\n",
    "    def __str__(self):\n",
    "        return f'{self.name}:{self.massage}'\n",
    "\n",
    "\n",
    "\n",
    "\n",
    "try:\n",
    "    num=int(input(\"양수 입력\"))\n",
    "    if num<0:\n",
    "        raise NegativeNumberError(\"음수 적지마 양수만\")#클래스에 메세지를 저장하는 함수\n",
    "except NegativeNumberError as e: #raise에서 예외처리가 포함된 클래스로 넘겨오게 됨\n",
    "    print(e)"
   ]
  },
  {
   "cell_type": "code",
   "execution_count": 3,
   "metadata": {},
   "outputs": [
    {
     "name": "stdout",
     "output_type": "stream",
     "text": [
      "NegativeNumberError:음수 적지마 양수만\n"
     ]
    }
   ],
   "source": [
    "class NegativeNumberError(Exception):\n",
    "    def __init__(self, massage):\n",
    "        self.name=\"NegativeNumberError\"\n",
    "        self.massage=massage\n",
    "        super().__init__(massage)\n",
    "\n",
    "    def __str__(self):\n",
    "        return f'{self.name}:{self.massage}'\n",
    "\n",
    "\n",
    "\n",
    "\n",
    "try:\n",
    "    num=int(input(\"양수 입력\"))\n",
    "    if num<0:\n",
    "        raise NegativeNumberError(\"음수 적지마 양수만\")#클래스에 메세지를 저장하는 함수\n",
    "except NegativeNumberError as e: #raise에서 예외처리가 포함된 클래스로 넘겨오게 됨\n",
    "    print(e)\n",
    "\n",
    "\n",
    "\n",
    "\n",
    "# class NegativeNumberError(Exception): #클래스를 선언할 것인데, 이 클래스는 예외 클래스다.\n",
    "#     #먼저 초기화해준다.\n",
    "#     def __init__(self, *args):\n",
    "#         super().__init__(*args)\n",
    "\n",
    "\n",
    "# try:\n",
    "#     num=int(input(\"양수를 입력해주세요\"))\n",
    "#     if num<0:\n",
    "#         print(num)\n",
    "# except NegativeNumberError:\n",
    "#     print(\"양수를 입력해주세요.\")"
   ]
  }
 ],
 "metadata": {
  "kernelspec": {
   "display_name": "Python 3",
   "language": "python",
   "name": "python3"
  },
  "language_info": {
   "codemirror_mode": {
    "name": "ipython",
    "version": 3
   },
   "file_extension": ".py",
   "mimetype": "text/x-python",
   "name": "python",
   "nbconvert_exporter": "python",
   "pygments_lexer": "ipython3",
   "version": "3.9.6"
  }
 },
 "nbformat": 4,
 "nbformat_minor": 2
}
