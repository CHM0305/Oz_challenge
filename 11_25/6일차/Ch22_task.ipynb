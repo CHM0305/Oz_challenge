{
 "cells": [
  {
   "cell_type": "markdown",
   "metadata": {},
   "source": [
    "여러 숫자를 입력받아 그 합계를 반환하는 함수 sum_numbers를 작성하세요. 이 때, 가변 매개변수를 사용하세요."
   ]
  },
  {
   "cell_type": "code",
   "execution_count": null,
   "metadata": {},
   "outputs": [
    {
     "name": "stdout",
     "output_type": "stream",
     "text": [
      "8\n"
     ]
    }
   ],
   "source": [
    "# def sum_numbers(*args):\n",
    "    \n",
    "#     for i in args:\n",
    "#     ?????? 포기이..\n",
    "\n",
    "#     print()\n",
    "\n",
    "# sum_numbers(1,3,4)\n",
    "\n",
    "def sum_numbers(*numbers): \n",
    "    return sum(numbers)\n",
    "\n",
    "print(sum_numbers(1,2,4,1))\n",
    "\n",
    "#가변 매개변수는 명 앞에 *붙려 사용. (가변매개변수는 한개만 가능)\n",
    "#입력받은 값 합은 sum()을 이용하자..!\n"
   ]
  },
  {
   "cell_type": "markdown",
   "metadata": {},
   "source": [
    "def sum_numbers(*numbers): \n",
    "    return sum(numbers)\n",
    "\n",
    "print(sum_numbers(1,2,4,1))"
   ]
  }
 ],
 "metadata": {
  "kernelspec": {
   "display_name": "Python 3",
   "language": "python",
   "name": "python3"
  },
  "language_info": {
   "codemirror_mode": {
    "name": "ipython",
    "version": 3
   },
   "file_extension": ".py",
   "mimetype": "text/x-python",
   "name": "python",
   "nbconvert_exporter": "python",
   "pygments_lexer": "ipython3",
   "version": "3.9.6"
  }
 },
 "nbformat": 4,
 "nbformat_minor": 2
}
