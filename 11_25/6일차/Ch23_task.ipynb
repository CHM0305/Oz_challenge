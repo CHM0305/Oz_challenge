{
 "cells": [
  {
   "cell_type": "markdown",
   "metadata": {},
   "source": [
    "사용자의 이름을 출력하는 함수 print_name을 작성하세요. 만약 이름이 주어지지 않았다면, 기본값으로 \"익명\"을 사용하세요."
   ]
  },
  {
   "cell_type": "code",
   "execution_count": 3,
   "metadata": {},
   "outputs": [
    {
     "name": "stdout",
     "output_type": "stream",
     "text": [
      "익명\n",
      "봉순\n"
     ]
    }
   ],
   "source": [
    "\n",
    "# def print_name(*name): 가변매개변수라오...\n",
    "#     if name == None: 안될만ㄷ..\n",
    "#         return \"익명\"\n",
    "\n",
    "#     list=[name]\n",
    "#     return list\n",
    "    \n",
    "# print(print_name(\"\",\"벙테\"))\n",
    "\n",
    "def print_name(name=\"익명\"):\n",
    "    print(name)  # 만약 입력 값이 없으면 익명을, 있다면 입력받은\n",
    "                # name의 값을 내보내시오.\n",
    "\n",
    "print_name()\n",
    "print_name(\"봉순\")"
   ]
  },
  {
   "cell_type": "markdown",
   "metadata": {},
   "source": [
    "def print_name(name=\"익명\"):\n",
    "    print(name) \n",
    "\n",
    "print_name()\n",
    "print_name(\"봉순\")"
   ]
  }
 ],
 "metadata": {
  "kernelspec": {
   "display_name": "Python 3",
   "language": "python",
   "name": "python3"
  },
  "language_info": {
   "codemirror_mode": {
    "name": "ipython",
    "version": 3
   },
   "file_extension": ".py",
   "mimetype": "text/x-python",
   "name": "python",
   "nbconvert_exporter": "python",
   "pygments_lexer": "ipython3",
   "version": "3.9.6"
  }
 },
 "nbformat": 4,
 "nbformat_minor": 2
}
