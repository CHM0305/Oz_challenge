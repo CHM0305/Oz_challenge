{
 "cells": [
  {
   "cell_type": "markdown",
   "metadata": {},
   "source": [
    "[문제] \n",
    "\n",
    "'Employee' 클래스를 선언하세요. \n",
    "\n",
    "이 클래스는 월급인상률을 의미하는 클래스 변수로 'raise_amount'를 갖고 있으며, 기본값은 1.04입니다. 다음 급여는 기본 급여에 월급인상률을 곱한 값으로 결정합니다.\n",
    "\n",
    "또한, 각 직원의 이름(name)과 급여(salary)를 속성으로 가지며, 'apply_raise' 메소드를 통해 급여에 'raise_amount'를 적용할 수 있어야 합니다.\n",
    "\n",
    "'Employee' 클래스의 객체 두 개를 생성하고, 한 객체에만 'raise_amount'를 변경한 후, 두 객체의 급여를 증가시켜보세요.<br>\n",
    "그리고 각 객체의 새로운 급여를 출력하세요."
   ]
  },
  {
   "cell_type": "markdown",
   "metadata": {},
   "source": [
    "class Employee:\n",
    "    raise_amount=1.04\n",
    "\n",
    "    def __init__(self,name,salary):\n",
    "        self.name=name\n",
    "        self.salary=salary\n",
    "\n",
    "    def apply_raise(self):\n",
    "        self.salary=int(self.salary*self.raise_amount)\n",
    "        #기본 급여에 월급 인상률을 높혀준 것을 지급해주는 것이니!!\n",
    "        # return self.salary * Employee.raise_amount\n",
    "        # 깂을 변경할 수 없이 바로 값이 반환되니 return은 안됨!\n",
    "\n",
    "#객체생성/ 급여 적용\n",
    "#클래스의 생성자를 이용한 객체생성?\n",
    "num1=Employee(\"이구명\",20000)\n",
    "num2=Employee(\"동구영\",40000)\n",
    "\n",
    "#한 객체에만 인상률 변경\n",
    "#클래스.변수명= 원하는 값 하면 외부에도 값이 변경됨.\n",
    "Employee.raise_amount=1.06\n",
    "#변경한 값을 객체에 입력해주는데 클래스 메소드를 이용해 옮겨준다.\n",
    "num1.apply_raise()\n",
    "\n",
    "#급여의 변화를 보기 위함이니 각 객체의 급여 부분만 출력한다.\n",
    "print(num1.salary)\n",
    "print(num2.salary)"
   ]
  },
  {
   "cell_type": "code",
   "execution_count": null,
   "metadata": {},
   "outputs": [
    {
     "name": "stdout",
     "output_type": "stream",
     "text": [
      "21200\n",
      "40000\n"
     ]
    }
   ],
   "source": [
    "class Employee:\n",
    "    raise_amount=1.04\n",
    "\n",
    "    def __init__(self,name,salary):\n",
    "        self.name=name\n",
    "        self.salary=salary\n",
    "\n",
    "    def apply_raise(self):\n",
    "        self.salary=int(self.salary*self.raise_amount)\n",
    "        #기본 급여에 월급 인상률을 높혀준 것을 지급해주는 것이니!!\n",
    "        # return self.salary * Employee.raise_amount\n",
    "        # 깂을 변경할 수 없이 바로 값이 반환되니 return은 안됨!\n",
    "\n",
    "#객체생성/ 급여 적용\n",
    "#클래스의 생성자를 이용한 객체생성?\n",
    "num1=Employee(\"이구명\",20000)\n",
    "num2=Employee(\"동구영\",40000)\n",
    "\n",
    "#한 객체에만 인상률 변경\n",
    "#클래스.변수명= 원하는 값 하면 외부에도 값이 변경됨.\n",
    "Employee.raise_amount=1.06\n",
    "#변경한 값을 객체에 입력해주는데 클래스 메소드를 이용해 옮겨준다.\n",
    "num1.apply_raise()\n",
    "\n",
    "#급여의 변화를 보기 위함이니 각 객체의 급여 부분만 출력한다.\n",
    "print(num1.salary)\n",
    "print(num2.salary)\n",
    "\n",
    "# class Employee:\n",
    "#     raise_amount=1.04\n",
    "#     def __init__(self,name,salary):\n",
    "#         self.name=name\n",
    "#         self.salary=salary\n",
    "#     def apply_raise(self):\n",
    "#         return self.salary * Employee.raise_amount\n",
    "\n",
    "# Employee(\"이구명\",2)\n",
    "# Employee(\"동구영\",4)\n",
    "\n",
    "# list = Employee()\n",
    "# print(list.apply_raise())\n"
   ]
  }
 ],
 "metadata": {
  "kernelspec": {
   "display_name": "Python 3",
   "language": "python",
   "name": "python3"
  },
  "language_info": {
   "codemirror_mode": {
    "name": "ipython",
    "version": 3
   },
   "file_extension": ".py",
   "mimetype": "text/x-python",
   "name": "python",
   "nbconvert_exporter": "python",
   "pygments_lexer": "ipython3",
   "version": "3.9.6"
  }
 },
 "nbformat": 4,
 "nbformat_minor": 2
}
