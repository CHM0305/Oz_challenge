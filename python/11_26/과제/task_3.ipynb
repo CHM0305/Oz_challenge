{
 "cells": [
  {
   "cell_type": "markdown",
   "metadata": {},
   "source": [
    "사용자로부터 여러 개의 숫자를 입력받아 리스트에 저장한 후, 사용자가 'done'이라고 입력할 때까지 계속 입력받으세요. \n",
    "\n",
    "- 입력 중 숫자가 아닌 값이 입력되면 ValueError를 처리\n",
    "- 숫자 외 값이 입력된 경우 어떤 값이 잘못 입력되었는지 사용자에게 알려주는 문구 출력<br>\n",
    "  (예: f\"잘못된 값: {변수}. 숫자를 입력해주세요.\")\n",
    "\n"
   ]
  },
  {
   "cell_type": "markdown",
   "metadata": {},
   "source": [
    "number_list = []\n",
    "while True:\n",
    "    try:\n",
    "        num=input(\"리스트에 담을 숫자를 입력하셔(아니면 종료)\")\n",
    "        if num==\"done\":\n",
    "            break\n",
    "        number_list.append(int(num)) #list에 데이터를 추가해준다. 숫자인 num을!\n",
    "    except ValueError:\n",
    "        print(f\"잘못된 값: {num}. 숫자를 입력해주세요.\")\n",
    "print(number_list)"
   ]
  },
  {
   "cell_type": "code",
   "execution_count": 5,
   "metadata": {},
   "outputs": [
    {
     "name": "stdout",
     "output_type": "stream",
     "text": [
      "[3, 5, 2]\n"
     ]
    }
   ],
   "source": [
    "#list 생성\n",
    "number_list = []\n",
    "#done 이 입력될때 까지 계속 진행되는 것이니\n",
    "while True:\n",
    "    try:\n",
    "        num=input(\"리스트에 담을 숫자를 입력하셔(아니면 종료)\")\n",
    "        #입력을 받는 것을 저장할 변수 만들기 / 종료도 들어와야하기에 숫자로 미리 받으면 안된다.\n",
    "        #만약 num_list에 done이 입력되었다면 종료\n",
    "        if num==\"done\":\n",
    "            break\n",
    "        #리스트 데이터 추가 함수 외워 .append()\n",
    "        number_list.append(int(num)) #list에 데이터를 추가해준다. 숫자인 num을!\n",
    "    except ValueError:\n",
    "        print(f\"잘못된 값: {num}. 숫자를 입력해주세요.\")\n",
    "print(number_list)\n",
    "\n",
    "\n",
    "# try:\n",
    "#     number_list=[]\n",
    "#     number_list=int(input(\"리스트에 담을 숫자를 입력하셔\").split(\",\"))    \n",
    "#     if number_list.isdigit()!=True:\n",
    "#         변수=number_list.isdigit()!=True\n",
    "#         print(f\"잘못된 값:{변수}- 숫자가 아니여.\")\n",
    "# except ValueError:\n",
    "#     print(\"숫자만 입력하쇼!\")\n"
   ]
  }
 ],
 "metadata": {
  "kernelspec": {
   "display_name": "Python 3",
   "language": "python",
   "name": "python3"
  },
  "language_info": {
   "codemirror_mode": {
    "name": "ipython",
    "version": 3
   },
   "file_extension": ".py",
   "mimetype": "text/x-python",
   "name": "python",
   "nbconvert_exporter": "python",
   "pygments_lexer": "ipython3",
   "version": "3.9.6"
  }
 },
 "nbformat": 4,
 "nbformat_minor": 2
}
