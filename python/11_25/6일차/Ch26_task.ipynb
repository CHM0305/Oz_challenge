{
 "cells": [
  {
   "cell_type": "markdown",
   "metadata": {},
   "source": [
    "0부터 시작하여 n까지의 숫자 중에서 홀수만 생성하는 제너레이터 odd_numbers를 작성하세요."
   ]
  },
  {
   "cell_type": "markdown",
   "metadata": {},
   "source": [
    "#답안 참고후 이해하면서 작성한 것.\n",
    "def odd_numbers(n):         #숫자 입력받을 함수 정의\n",
    "    for i in range(n):    #입력한 수만큼 출력하겠다\n",
    "        if i%2 !=0:        #홀수 조건문\n",
    "            yield i         #조건에 걸러진 i까지만 출력하겠다.\n",
    "\n",
    "\n",
    "\n",
    "#print(odd_numbers(10)) 제너레이터이긴하지만 홀수가 나와야하니\n",
    "for num in odd_numbers(15): #함수에 값넣은 것을 \n",
    "                            #변수 선언 후 출력해줘야함\n",
    "    print(num)\n",
    "\n",
    "\n",
    "#내가 작성한 것..\n",
    "def odd_numbers(n):\n",
    "    \n",
    "\n",
    "    if n%2==0:\n",
    "        return\n",
    "\n",
    "    else:\n",
    "        return n\n",
    "\n",
    "odd_number(5)"
   ]
  },
  {
   "cell_type": "code",
   "execution_count": 10,
   "metadata": {},
   "outputs": [
    {
     "name": "stdout",
     "output_type": "stream",
     "text": [
      "1\n",
      "3\n",
      "5\n",
      "7\n",
      "9\n",
      "11\n",
      "13\n"
     ]
    }
   ],
   "source": [
    "#제너레이터 - yield\n",
    "\n",
    "def odd_numbers(n):         #숫자 입력받을 함수 정의\n",
    "    for i in range(n):    #입력한 수만큼 출력하겠다\n",
    "        if i%2 !=0:        #홀수 조건문\n",
    "            yield i         #조건에 걸러진 i까지만 출력하겠다.\n",
    "\n",
    "\n",
    "\n",
    "#print(odd_numbers(10)) 제너레이터이긴하지만 홀수가 나와야하니\n",
    "for num in odd_numbers(15): #함수에 값넣은 것을 \n",
    "                            #변수 선언 후 출력해줘야함\n",
    "    print(num)\n",
    "\n",
    "\n",
    "\n",
    "\n",
    "# def numbers(n):\n",
    "    \n",
    "\n",
    "#     if n%2==0:\n",
    "#         return\n",
    "\n",
    "#     else:\n",
    "#         return print(n)\n",
    "\n",
    "# odd_numbers=numbers()\n",
    "# print(odd_numbers(5))"
   ]
  }
 ],
 "metadata": {
  "kernelspec": {
   "display_name": "Python 3",
   "language": "python",
   "name": "python3"
  },
  "language_info": {
   "codemirror_mode": {
    "name": "ipython",
    "version": 3
   },
   "file_extension": ".py",
   "mimetype": "text/x-python",
   "name": "python",
   "nbconvert_exporter": "python",
   "pygments_lexer": "ipython3",
   "version": "3.9.6"
  }
 },
 "nbformat": 4,
 "nbformat_minor": 2
}
