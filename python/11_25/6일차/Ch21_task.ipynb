{
 "cells": [
  {
   "cell_type": "markdown",
   "metadata": {},
   "source": [
    "사용자로부터 이름과 나이를 입력 받아, \"안녕하세요, [이름]님! 당신은 [나이]살입니다.\"라고 출력하는 함수 greet_user를 작성하세요."
   ]
  },
  {
   "cell_type": "code",
   "execution_count": null,
   "metadata": {},
   "outputs": [
    {
     "name": "stdout",
     "output_type": "stream",
     "text": [
      "안녕하세요.봉순님의 나이는 2살 입니다. \n"
     ]
    }
   ],
   "source": [
    "# list=input(\"이름과 나이를 입력해주세요\".split(\",\"))\n",
    "# 오답!\n",
    "# def greet_user():\n",
    "#     name_age=list(input(),input())\n",
    "#     return name_age\n",
    "\n",
    "# print(\"이름과 나이를 입력해주세요!\")\n",
    "# answer=greet_user()\n",
    "# print(f\"안녕하세요, {answer}님! 당신은 {answer}살입니다.\")\n",
    "\n",
    "#입력 받아야된대서 input인줄 앎..! 간단하게 생각할 것.\n",
    "# 결과보고 다시 코드 작성\n",
    "\n",
    "def greet_user(name, age):\n",
    "    print(f\"안녕하세요.{name}님의 나이는 {age}살 입니다. \")\n",
    "\n",
    "greet_user(\"봉순\",2)\n",
    "\n"
   ]
  },
  {
   "cell_type": "markdown",
   "metadata": {},
   "source": [
    "너무 길게 적을 생각하지 말기 간결하게!!\n",
    "깊은 생각도 nope\n",
    "\n",
    "def greet_user(name, age):\n",
    "    pritn(f\"안녕하세요.{name}님의 나이는 {age}살 입니다. \")\n",
    "\n",
    "greet_user(\"봉순\",2)\n"
   ]
  }
 ],
 "metadata": {
  "kernelspec": {
   "display_name": "Python 3",
   "language": "python",
   "name": "python3"
  },
  "language_info": {
   "codemirror_mode": {
    "name": "ipython",
    "version": 3
   },
   "file_extension": ".py",
   "mimetype": "text/x-python",
   "name": "python",
   "nbconvert_exporter": "python",
   "pygments_lexer": "ipython3",
   "version": "3.9.6"
  }
 },
 "nbformat": 4,
 "nbformat_minor": 2
}
