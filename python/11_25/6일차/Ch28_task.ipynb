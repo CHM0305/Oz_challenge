{
 "cells": [
  {
   "cell_type": "markdown",
   "metadata": {},
   "source": [
    "사용자로부터 3개의 숫자를 입력받아, 이를 튜플로 만든 후 최소값과 최대값을 출력하는 함수 min_max를 작성하세요."
   ]
  },
  {
   "cell_type": "markdown",
   "metadata": {},
   "source": [
    "def min_mix(*num): \n",
    "    num_tuple=tuple(num)    \n",
    "    print(\"최소값 : \",min(num_tuple),\"최대값 : \",max(num_tuple))\n",
    "    \n",
    "\n",
    "min_mix(5,7,9)"
   ]
  },
  {
   "cell_type": "code",
   "execution_count": null,
   "metadata": {},
   "outputs": [
    {
     "name": "stdout",
     "output_type": "stream",
     "text": [
      "최소값 :  5 최대값 :  9\n"
     ]
    }
   ],
   "source": [
    "# def oz_tuple(x,y,z):\n",
    "#     if x>y or z:\n",
    "#         print x\n",
    "#     elif z > x or y:\n",
    "#쉽게 생각하기...\n",
    "\n",
    "def min_mix(*num):  #여러값을 받아야하기 때문에 가변매개변수로 받는다.\n",
    "    num_tuple=tuple(num)    #튜플로 만들어준다음 변수에 넣고\n",
    "    print(\"최소값 : \",min(num_tuple),\"최대값 : \",max(num_tuple))\n",
    "    #최소값 최대값 함수를 이용해 결과값을 출력한다.\n",
    "\n",
    "min_mix(5,7,9)\n",
    "\n"
   ]
  }
 ],
 "metadata": {
  "kernelspec": {
   "display_name": "Python 3",
   "language": "python",
   "name": "python3"
  },
  "language_info": {
   "codemirror_mode": {
    "name": "ipython",
    "version": 3
   },
   "file_extension": ".py",
   "mimetype": "text/x-python",
   "name": "python",
   "nbconvert_exporter": "python",
   "pygments_lexer": "ipython3",
   "version": "3.9.6"
  }
 },
 "nbformat": 4,
 "nbformat_minor": 2
}
