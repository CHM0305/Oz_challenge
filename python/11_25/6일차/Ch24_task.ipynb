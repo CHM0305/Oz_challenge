{
 "cells": [
  {
   "cell_type": "markdown",
   "metadata": {},
   "source": [
    "사용자의 이름, 나이, 성별을 출력하는 함수 print_info를 작성하세요. 이 때, 모든 매개변수는 키워드 매개변수로만 받도록 하세요."
   ]
  },
  {
   "cell_type": "code",
   "execution_count": 5,
   "metadata": {},
   "outputs": [
    {
     "name": "stdout",
     "output_type": "stream",
     "text": [
      "name는 boog\n",
      "age는 2\n",
      "gender는 girl\n"
     ]
    }
   ],
   "source": [
    "\n",
    "# def print_info(name,age,gender):\n",
    "#     print(f\"이름:{name}, 나이:{age}살, 성별:{gender}\")\n",
    "\n",
    "# print_info(name=\"봉순\",age=2,gender=\"여\")\n",
    "\n",
    "    # for name,age,gender in kw.items():\n",
    "    # #print(f\"이름:{key},나이:{valus},성별{valus]\")\n",
    "    # 안되는 이유.. \n",
    "    # 사용자의 이름 나이 성별은 키와 밸류에 해당하는\n",
    "    # 것이기 때문에 items() 딕셔너리의 키와 값을 얻을 수 있는 함수를\n",
    "    # 사용해야 한다. 그러니 key, valus에 넣어야하고\n",
    "    # 출력도 그것들만 사용해서 프린트 해야 오류가 안난다.\n",
    "    #각각 이름은 은지, 나이는 30,성별은 여성 ok\n",
    "\n",
    "#** 연산자를 이용해야함.\n",
    "def print_info(**kw):\n",
    "    \n",
    "    for key,valus in kw.items():\n",
    "        print(f'{key}는 {valus}')\n",
    "\n",
    "\n",
    "print_info(name=\"boog\",age=2,gender=\"girl\")\n",
    "\n",
    "\n",
    "\n"
   ]
  },
  {
   "cell_type": "markdown",
   "metadata": {},
   "source": [
    "\n",
    "\n",
    "def print_info(**kw):\n",
    "    \n",
    "    for key,valus in kw.items():\n",
    "        print(f'{key}는 {valus}')\n",
    "\n",
    "\n",
    "print_info(name=\"boog\",age=2,gender=\"girl\")"
   ]
  }
 ],
 "metadata": {
  "kernelspec": {
   "display_name": "Python 3",
   "language": "python",
   "name": "python3"
  },
  "language_info": {
   "codemirror_mode": {
    "name": "ipython",
    "version": 3
   },
   "file_extension": ".py",
   "mimetype": "text/x-python",
   "name": "python",
   "nbconvert_exporter": "python",
   "pygments_lexer": "ipython3",
   "version": "3.9.6"
  }
 },
 "nbformat": 4,
 "nbformat_minor": 2
}
