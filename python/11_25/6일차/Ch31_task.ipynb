{
 "cells": [
  {
   "cell_type": "markdown",
   "metadata": {},
   "source": [
    "문자열 리스트를 받아, 각 문자열의 길이를 출력하는 함수 print_lengths를 작성하세요."
   ]
  },
  {
   "cell_type": "markdown",
   "metadata": {},
   "source": [
    "\n",
    "def print_lenghs(str): \n",
    "    for i in str:     \n",
    "        print(len(i))  \n",
    "\n",
    "\n",
    "print_lenghs([\"당근\",\"감자\",\"양파\"]) "
   ]
  },
  {
   "cell_type": "code",
   "execution_count": null,
   "metadata": {},
   "outputs": [
    {
     "name": "stdout",
     "output_type": "stream",
     "text": [
      "2\n",
      "2\n",
      "2\n"
     ]
    }
   ],
   "source": [
    "\n",
    "def print_lenghs(str): #2-리스트를str으로 받아온다\n",
    "    for i in str:       #3-반복문을 이용해 리스트 안에 문자열을\n",
    "        print(len(i))   #4-길이만 각각 출력한다.\n",
    "\n",
    "\n",
    "print_lenghs([\"당근\",\"감자\",\"양파\"]) \n",
    "#1-리스트의 각 문자열 길이 구하는 거니 먼저 호출해주면\n",
    "\n",
    "# list_name=[\"당근\",\"감자\",\"양파\"]\n",
    "\n",
    "# def print_lenghs():\n",
    "#     global list_name\n",
    "#     numbers=len(list_name)\n",
    "#     return numbers\n",
    "\n",
    "# print_lenghs()"
   ]
  }
 ],
 "metadata": {
  "kernelspec": {
   "display_name": "Python 3",
   "language": "python",
   "name": "python3"
  },
  "language_info": {
   "codemirror_mode": {
    "name": "ipython",
    "version": 3
   },
   "file_extension": ".py",
   "mimetype": "text/x-python",
   "name": "python",
   "nbconvert_exporter": "python",
   "pygments_lexer": "ipython3",
   "version": "3.9.6"
  }
 },
 "nbformat": 4,
 "nbformat_minor": 2
}
