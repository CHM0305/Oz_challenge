{
 "cells": [
  {
   "cell_type": "markdown",
   "metadata": {
    "id": "BX7SgOeWu86I"
   },
   "source": [
    "안녕하세요. 수강생 여러분~! Chapter14 ~ 16 수업은 잘 들으셨나요?\n",
    "\n",
    "Chapter14 ~ 16의 수업 내용을 바탕으로 아래 문제를 풀어주시면 됩니다.\n",
    "\n",
    "<br>\n",
    "\n",
    "\n",
    "[**답변 입력 방법**]\n",
    "\n",
    "문제 아래에 있는 코드 입력창에 정답코드를 작성하신 후  __▷ 버튼을 클릭해 코드를 실행__ 해보세요<br>"
   ]
  },
  {
   "cell_type": "markdown",
   "metadata": {},
   "source": [
    "---"
   ]
  },
  {
   "cell_type": "markdown",
   "metadata": {
    "id": "7kQJMRuFu-6s"
   },
   "source": [
    "__[문제1]__\n",
    "\n",
    "주어진 정수 x와 자연수 n을 이용해, x부터 시작해 x씩 증가하는 숫자를 n개 지니는 리스트를 출력해주세요   \n",
    "<br>\n",
    "\n",
    "x = 2, n =5"
   ]
  },
  {
   "cell_type": "code",
   "execution_count": 3,
   "metadata": {},
   "outputs": [],
   "source": [
    "x = 2\n",
    "n =5\n",
    "result=[]\n",
    "for i in range(1, n + 1): \n",
    "    result.append(i * x)"
   ]
  },
  {
   "cell_type": "markdown",
   "metadata": {},
   "source": [
    "오답놑 \n",
    "-리스트 컴프리헨션이란? 원래라면 명령문 실행 전 리스트를 생성하는데, 이것을 뛰어넘고 바로 명령문으로 처리가 가능한 것을 말한다.\n",
    "예시는 밑.. 꼭 외우기/\n",
    "-append() 리스트에 값을 추가 시켜주는 함수이다.\n",
    "\n",
    "-리스트 컴프리헨션을 사용하지 않을 때\n",
    "result=[]\n",
    "for i in range(1, n + 1): \n",
    "    result.append(i * x)  \n",
    "\n",
    "x는 2 n은 5로 수를 지정해주고, result이라는 리스트를 만듬 \n",
    "result 리스트에 추가할 명령문을 실행시킨다.\n",
    "range 값을 반복시켜주는 함수로, 1부터 (n이 5이니까) 5까지의 숫자를 출력해서 i에 입력시킨다.\n",
    "그 다음 result라는 리스트에 .append의 함수로 반복해서 입력되는 i에 x값을 곱한 총 6가지의 값을 추가해준다.\n",
    "x부터 시작해 x씩 증가시킨다는 것은 .append(i * x)에 있다.\n",
    "i=1,n+1의 숫자를 순서대로 입력한 것\n",
    "그래서 1번째로 append할 값은 1*2= x값부터 시작하는 것!\n",
    "\n",
    "-리스트 컴프리헨션\n",
    "[i * x for i in range(1, n + 1)] \n",
    "\n",
    "이런 긴 코드를 간단하게 줄여준 것이 리스트 컴프리헨션\n",
    "result=[] -> [for i in range(1, n + 1)] 씌운다.\n",
    "[for i in range(1, n + 1)] + (i * x) ->  [i * x for i in range(1, n + 1)]\n",
    "이런 개념으로 이해하면 될 듯\n",
    "코드 가독성도 높혀주고 계산도 빠르게 할 수 있어 좋을 둣\n",
    "\n",
    "\n",
    "\n",
    "\n",
    "\n"
   ]
  },
  {
   "cell_type": "markdown",
   "metadata": {},
   "source": [
    "---"
   ]
  },
  {
   "cell_type": "markdown",
   "metadata": {
    "id": "4BPXMLXUvBVL"
   },
   "source": [
    "__[문제2]__\n",
    "\n",
    "전화번호가 문자열 phone_number로 주어졌을 때, 전화번호의 뒷 4자리를 *으로 가린 문자열이 출력되도록 코드를 작성해주세요\n",
    "\n",
    "phone_number = \"01012347890\"  \n",
    "<br>\n",
    "\n",
    "출력 예) \"0101234****\""
   ]
  },
  {
   "cell_type": "code",
   "execution_count": null,
   "metadata": {
    "id": "P0fY7CYUvC_j"
   },
   "outputs": [
    {
     "name": "stdout",
     "output_type": "stream",
     "text": [
      "0101234\n"
     ]
    }
   ],
   "source": [
    "phone_number = \"01012347890\" \n",
    "new_number = phone_number[:-4] + \"****\"\n",
    "print(new_number)\n",
    "\n",
    "#phone_number -4 뒤에서만 출력하고 그 뒤에 별을 붙힌다."
   ]
  },
  {
   "cell_type": "code",
   "execution_count": null,
   "metadata": {},
   "outputs": [
    {
     "name": "stdout",
     "output_type": "stream",
     "text": [
      "0101234****\n"
     ]
    }
   ],
   "source": [
    "phone_number = \"01012347890\"\n",
    "new_number = phone_number[:-4].ljust(len(phone_number), '*')\n",
    "print(new_number)\n",
    "\n",
    "#폰넘버를 뒤에서부터 [4]만큼을 빼고 나머지는 ljust 폰넘버의 길이 왼쪽부터 별로 채워주겠다. \n",
    "#rjust, ljust( n , c=' ') 오른쪽 왼쪽에 맞게 문자열을 n 만큼 정렬.그리고 c로 빈칸 채우기 "
   ]
  },
  {
   "cell_type": "markdown",
   "metadata": {},
   "source": []
  },
  {
   "cell_type": "markdown",
   "metadata": {},
   "source": [
    "---"
   ]
  },
  {
   "cell_type": "markdown",
   "metadata": {
    "id": "uUdOU9cFvDsq"
   },
   "source": [
    "__[문제3]__\n",
    "\n",
    "숫자를 건넬 때 일부 자릿수를 영단어로 바꾼 카드를 건네주면 프로도는 원래 숫자를 찾는 게임입니다.\n",
    "\n",
    "다음은 숫자의 일부 자릿수를 영단어로 바꾸는 예시입니다.\n",
    "\n",
    "1478 → \"one4seveneight\"  \n",
    "234567 → \"23four5six7\"  \n",
    "10203 → \"1zerotwozero3\"    \n",
    "\n",
    "이렇게 숫자의 일부 자릿수가 영단어로 바뀌어졌거나,   \n",
    "혹은 바뀌지 않고 그대로인 문자열 s가 주어졌을때\n",
    "s가 의미하는 원래 숫자를 출력하도록 코드를 작성해주세요\n",
    "\n",
    "s = \"77three4one\n",
    "\n",
    "---\n",
    "참고로 각 숫자에 대응되는 영단어는 다음 표와 같습니다.\n",
    "\n",
    "숫자\t영단어  \n",
    "0\tzero  \n",
    "1\tone  \n",
    "2\ttwo  \n",
    "3\tthree  \n",
    "4\tfour  \n",
    "5\tfive  \n",
    "6\tsix  \n",
    "7\tseven  \n",
    "8\teight  \n",
    "9\tnine  "
   ]
  },
  {
   "cell_type": "code",
   "execution_count": null,
   "metadata": {
    "id": "2NmqRFgDvFtz"
   },
   "outputs": [
    {
     "name": "stdout",
     "output_type": "stream",
     "text": [
      "77341\n"
     ]
    }
   ],
   "source": [
    "#딕셔너리 사용해야 함. replace란 문자열 변경해주는 함수. 이 함수를 이용해 기존의 값을 변경해줄 수 있다. \n",
    "# #replace(old, new, [count])' 형식으로 사용한다.\n",
    "# - old : 현재 문자열에서 변경하고 싶은 문자\n",
    "# - new: 새로 바꿀 문자\n",
    "# - count: 변경할 횟수.\n",
    "\n",
    "num_dict={\"zero\":\"0\",\n",
    "        \"one\":\"1\",\n",
    "        \"two\":\"2\",\n",
    "        \"three\":\"3\",\n",
    "        \"four\":\"4\",\n",
    "        \"five\":\"5\",\n",
    "        \"six\":\"6\",\n",
    "        \"seven\":\"7\",\n",
    "        \"eight\":\"8\",\n",
    "        \"nine\":\"9\"}\n",
    "#딕셔너리에 k:v 값을 넣어준다. \n",
    "\n",
    "s = \"77three4one\" #구해야할 값\n",
    "for key in num_dict.keys():\n",
    "        s = s.replace(key, num_dict[key])\n",
    "\n",
    "#딕셔너리는 키와 밸류를 갖고 있다. 그래서 값을 치환할때엔 키를 중심으로 변경할 값을 찾는다. \n",
    "#그래서 키를 가지고 값을 찾고 그 값의 벨류를 바꿔주는 것이다. \n",
    "#for val in num_dict.values():\n",
    "#        s = s.replace(val, num_dict[val])\n",
    "\n",
    "print(s)\n"
   ]
  },
  {
   "cell_type": "markdown",
   "metadata": {},
   "source": [
    "---"
   ]
  },
  {
   "cell_type": "markdown",
   "metadata": {
    "id": "J0Tha6AdvGL3"
   },
   "source": [
    "__[문제4]__\n",
    "\n",
    "행렬의 덧셈은 행과 열의 크기가 같은 두 행렬의 같은 행, 같은 열의 값을 서로 더한 결과가 됩니다. \n",
    "\n",
    " 행렬 arr1과 arr2가 주어졌을 때, 행렬 덧셈의 결과를 출력하는 코드를 작성해주세요(result와 같은 결과가 출력되도록 작성)\n",
    "\n",
    "arr1 = [[1,2],[2,3]]\n",
    "\n",
    "arr2 = [[3,4],[5,6]]\n",
    "\n",
    "result = [[4,6],[7,9]]"
   ]
  },
  {
   "cell_type": "code",
   "execution_count": null,
   "metadata": {
    "id": "ujiXrEhJvIV0"
   },
   "outputs": [
    {
     "name": "stdout",
     "output_type": "stream",
     "text": [
      "2\n",
      "[[4, 6], [7, 9]]\n"
     ]
    }
   ],
   "source": [
    "arr1 = [[1,2],[2,3]]\n",
    "arr2 = [[3,4],[5,6]]\n",
    "\n",
    "result = []\n",
    "print(len(arr1))\n",
    "for i in range(len(arr1)):\n",
    "    row = []\n",
    "    for j in range(len(arr1[0])):\n",
    "        row.append(arr1[i][j] + arr2[i][j])\n",
    "    result.append(row)\n",
    "\n",
    "print(result)\n",
    "\n",
    "#결과를 담아줄 리스트 생성해주고 arr1의 길이인 2일때 i 입력한다.\n",
    "# 그리고 값을 계산해서 넣어줘야하기에 임시리스트도 생성해준다.\n",
    "# 값계산이 다 되면 마지막으로 그 값을 결과값에 추가해준다."
   ]
  },
  {
   "cell_type": "markdown",
   "metadata": {},
   "source": [
    "---"
   ]
  },
  {
   "cell_type": "markdown",
   "metadata": {
    "id": "eLdrWVkavJEN"
   },
   "source": [
    "__[문제5]__\n",
    "\n",
    "양의 정수 x가 하샤드 수이려면 x의 자릿수의 합으로 x가 나누어져야 합니다.   \n",
    "예를 들어 18의 자릿수 합은 1+8=9이고, 18은 9로 나누어 떨어지므로 18은 하샤드 수입니다.   \n",
    "주어진 x를 이용해 x가 하샤드 수인지 아닌지 검사하는 코드를 작성해주세요\n",
    "\n",
    "x = 17\n",
    "\n",
    "----\n",
    "\n",
    "입출력 예시\n",
    "x\t결과값  \n",
    "10\ttrue  \n",
    "12\ttrue  \n",
    "11\tfalse  \n",
    "13\tfalse  "
   ]
  },
  {
   "cell_type": "code",
   "execution_count": null,
   "metadata": {
    "id": "EULD-IOrvKmG"
   },
   "outputs": [],
   "source": []
  },
  {
   "cell_type": "markdown",
   "metadata": {},
   "source": [
    "---"
   ]
  },
  {
   "cell_type": "markdown",
   "metadata": {
    "id": "GeS6hZhivLMZ"
   },
   "source": [
    "__[문제6]__\n",
    "\n",
    "String형 배열 seoul의 element중 \"Kim\"의 인덱스 x를 찾아, \"김서방은 x에 있다\"는 String을 출력하는 코드를 작성해주세요.   \n",
    "\n",
    "seoul에 \"Kim\"은 오직 한 번만 나타나며 잘못된 값이 입력되는 경우는 없습니다.\n",
    "\n",
    "seoul = [\"Jane\", \"Kim\"]\n",
    "\n",
    "<br>\n",
    "출력 예) \"김서방은 1에 있다\""
   ]
  },
  {
   "cell_type": "code",
   "execution_count": null,
   "metadata": {
    "id": "e4LXat3BvRRg"
   },
   "outputs": [],
   "source": []
  },
  {
   "cell_type": "markdown",
   "metadata": {},
   "source": [
    "---"
   ]
  },
  {
   "cell_type": "markdown",
   "metadata": {
    "id": "iZjKl-ZqvOkm"
   },
   "source": [
    "__[문제7]__\n",
    "\n",
    "0부터 9까지의 숫자 중 일부가 들어있는 정수 배열 numbers가 주어집니다.   \n",
    "numbers에서 찾을 수 없는 0부터 9까지의 숫자를 모두 찾아 더한 수를 출력해주세요\n",
    "\n",
    "numbers = [5,8,1,0,6,9]"
   ]
  },
  {
   "cell_type": "code",
   "execution_count": null,
   "metadata": {
    "id": "598DAkIHvQav"
   },
   "outputs": [],
   "source": []
  }
 ],
 "metadata": {
  "colab": {
   "authorship_tag": "ABX9TyMLQjyUmELFyKkx1AyovOFZ",
   "provenance": []
  },
  "kernelspec": {
   "display_name": "Python 3",
   "name": "python3"
  },
  "language_info": {
   "codemirror_mode": {
    "name": "ipython",
    "version": 3
   },
   "file_extension": ".py",
   "mimetype": "text/x-python",
   "name": "python",
   "nbconvert_exporter": "python",
   "pygments_lexer": "ipython3",
   "version": "3.9.6"
  }
 },
 "nbformat": 4,
 "nbformat_minor": 0
}
